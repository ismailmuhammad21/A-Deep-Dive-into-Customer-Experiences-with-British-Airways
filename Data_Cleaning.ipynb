{
  "nbformat": 4,
  "nbformat_minor": 0,
  "metadata": {
    "colab": {
      "provenance": [],
      "mount_file_id": "1jebfMN_gdLY1MdxcVmfWTNuTMPeR4ija",
      "authorship_tag": "ABX9TyM67q0oOu4GmORd2FonxV57",
      "include_colab_link": true
    },
    "kernelspec": {
      "name": "python3",
      "display_name": "Python 3"
    },
    "language_info": {
      "name": "python"
    }
  },
  "cells": [
    {
      "cell_type": "markdown",
      "metadata": {
        "id": "view-in-github",
        "colab_type": "text"
      },
      "source": [
        "<a href=\"https://colab.research.google.com/github/ismailmuhammad21/A-Deep-Dive-into-Customer-Experiences-with-British-Airways/blob/main/Data_Cleaning.ipynb\" target=\"_parent\"><img src=\"https://colab.research.google.com/assets/colab-badge.svg\" alt=\"Open In Colab\"/></a>"
      ]
    },
    {
      "cell_type": "markdown",
      "source": [
        "# **Data Cleansing**\n",
        "\n",
        "\n",
        " \n",
        "Now moving on to the next step of analysis which is cleaning data.This involves removing unnecessary punctuation, correcting spelling errors, and filtering out unwanted characters to ensure accurate and reliable information. By doing so, we can perform various analytical tasks and obtain valuable insights for better decision-making.\n"
      ],
      "metadata": {
        "id": "h9qO5TiqIzt1"
      }
    },
    {
      "cell_type": "code",
      "source": [
        "#imports\n",
        "\n",
        "import pandas as pd\n",
        "import matplotlib.pyplot as plt\n",
        "import seaborn as sns\n",
        "import os\n",
        "\n",
        "#regex\n",
        "import re"
      ],
      "metadata": {
        "id": "VpAcUrxqJm_G"
      },
      "execution_count": 31,
      "outputs": []
    },
    {
      "cell_type": "code",
      "source": [
        "import os\n",
        "import pandas as pd\n",
        "\n",
        "# check the current working directory\n",
        "print(os.getcwd())\n",
        "\n",
        "# specify the file path\n",
        "file_path = \"/BA_reviews.csv\"\n",
        "\n",
        "# read the csv file into a dataframe\n",
        "df = pd.read_csv(file_path, index_col=0)\n"
      ],
      "metadata": {
        "colab": {
          "base_uri": "https://localhost:8080/"
        },
        "id": "iVfq_-5cQxte",
        "outputId": "dc1fc28d-3978-474e-df10-b2e306076151"
      },
      "execution_count": 32,
      "outputs": [
        {
          "output_type": "stream",
          "name": "stdout",
          "text": [
            "/content\n"
          ]
        }
      ]
    },
    {
      "cell_type": "code",
      "source": [
        "df.head()"
      ],
      "metadata": {
        "id": "PL7CyHHSQx21",
        "colab": {
          "base_uri": "https://localhost:8080/",
          "height": 206
        },
        "outputId": "252d8588-4757-4bd5-f3cb-85c0ffff73cd"
      },
      "execution_count": 33,
      "outputs": [
        {
          "output_type": "execute_result",
          "data": {
            "text/plain": [
              "                                             reviews  \\\n",
              "0  ✅ Trip Verified |  Despite being a gold member...   \n",
              "1  Not Verified | Regarding the aircraft and seat...   \n",
              "2  Not Verified | I travelled with British Airway...   \n",
              "3  Not Verified |  Food was lousy. Who ever is pl...   \n",
              "4  ✅ Trip Verified | Had the worst experience. Th...   \n",
              "\n",
              "                           stars             date         country  \n",
              "0  \\n\\t\\t\\t\\t\\t\\t\\t\\t\\t\\t\\t\\t\\t5     1st May 2023  United Kingdom  \n",
              "1                              2  28th April 2023  United Kingdom  \n",
              "2                              5  26th April 2023          Sweden  \n",
              "3                              1  24th April 2023   United States  \n",
              "4                              2  24th April 2023          Canada  "
            ],
            "text/html": [
              "\n",
              "  <div id=\"df-b3b4f1eb-2d41-4672-bcd4-4f14763fb638\">\n",
              "    <div class=\"colab-df-container\">\n",
              "      <div>\n",
              "<style scoped>\n",
              "    .dataframe tbody tr th:only-of-type {\n",
              "        vertical-align: middle;\n",
              "    }\n",
              "\n",
              "    .dataframe tbody tr th {\n",
              "        vertical-align: top;\n",
              "    }\n",
              "\n",
              "    .dataframe thead th {\n",
              "        text-align: right;\n",
              "    }\n",
              "</style>\n",
              "<table border=\"1\" class=\"dataframe\">\n",
              "  <thead>\n",
              "    <tr style=\"text-align: right;\">\n",
              "      <th></th>\n",
              "      <th>reviews</th>\n",
              "      <th>stars</th>\n",
              "      <th>date</th>\n",
              "      <th>country</th>\n",
              "    </tr>\n",
              "  </thead>\n",
              "  <tbody>\n",
              "    <tr>\n",
              "      <th>0</th>\n",
              "      <td>✅ Trip Verified |  Despite being a gold member...</td>\n",
              "      <td>\\n\\t\\t\\t\\t\\t\\t\\t\\t\\t\\t\\t\\t\\t5</td>\n",
              "      <td>1st May 2023</td>\n",
              "      <td>United Kingdom</td>\n",
              "    </tr>\n",
              "    <tr>\n",
              "      <th>1</th>\n",
              "      <td>Not Verified | Regarding the aircraft and seat...</td>\n",
              "      <td>2</td>\n",
              "      <td>28th April 2023</td>\n",
              "      <td>United Kingdom</td>\n",
              "    </tr>\n",
              "    <tr>\n",
              "      <th>2</th>\n",
              "      <td>Not Verified | I travelled with British Airway...</td>\n",
              "      <td>5</td>\n",
              "      <td>26th April 2023</td>\n",
              "      <td>Sweden</td>\n",
              "    </tr>\n",
              "    <tr>\n",
              "      <th>3</th>\n",
              "      <td>Not Verified |  Food was lousy. Who ever is pl...</td>\n",
              "      <td>1</td>\n",
              "      <td>24th April 2023</td>\n",
              "      <td>United States</td>\n",
              "    </tr>\n",
              "    <tr>\n",
              "      <th>4</th>\n",
              "      <td>✅ Trip Verified | Had the worst experience. Th...</td>\n",
              "      <td>2</td>\n",
              "      <td>24th April 2023</td>\n",
              "      <td>Canada</td>\n",
              "    </tr>\n",
              "  </tbody>\n",
              "</table>\n",
              "</div>\n",
              "      <button class=\"colab-df-convert\" onclick=\"convertToInteractive('df-b3b4f1eb-2d41-4672-bcd4-4f14763fb638')\"\n",
              "              title=\"Convert this dataframe to an interactive table.\"\n",
              "              style=\"display:none;\">\n",
              "        \n",
              "  <svg xmlns=\"http://www.w3.org/2000/svg\" height=\"24px\"viewBox=\"0 0 24 24\"\n",
              "       width=\"24px\">\n",
              "    <path d=\"M0 0h24v24H0V0z\" fill=\"none\"/>\n",
              "    <path d=\"M18.56 5.44l.94 2.06.94-2.06 2.06-.94-2.06-.94-.94-2.06-.94 2.06-2.06.94zm-11 1L8.5 8.5l.94-2.06 2.06-.94-2.06-.94L8.5 2.5l-.94 2.06-2.06.94zm10 10l.94 2.06.94-2.06 2.06-.94-2.06-.94-.94-2.06-.94 2.06-2.06.94z\"/><path d=\"M17.41 7.96l-1.37-1.37c-.4-.4-.92-.59-1.43-.59-.52 0-1.04.2-1.43.59L10.3 9.45l-7.72 7.72c-.78.78-.78 2.05 0 2.83L4 21.41c.39.39.9.59 1.41.59.51 0 1.02-.2 1.41-.59l7.78-7.78 2.81-2.81c.8-.78.8-2.07 0-2.86zM5.41 20L4 18.59l7.72-7.72 1.47 1.35L5.41 20z\"/>\n",
              "  </svg>\n",
              "      </button>\n",
              "      \n",
              "  <style>\n",
              "    .colab-df-container {\n",
              "      display:flex;\n",
              "      flex-wrap:wrap;\n",
              "      gap: 12px;\n",
              "    }\n",
              "\n",
              "    .colab-df-convert {\n",
              "      background-color: #E8F0FE;\n",
              "      border: none;\n",
              "      border-radius: 50%;\n",
              "      cursor: pointer;\n",
              "      display: none;\n",
              "      fill: #1967D2;\n",
              "      height: 32px;\n",
              "      padding: 0 0 0 0;\n",
              "      width: 32px;\n",
              "    }\n",
              "\n",
              "    .colab-df-convert:hover {\n",
              "      background-color: #E2EBFA;\n",
              "      box-shadow: 0px 1px 2px rgba(60, 64, 67, 0.3), 0px 1px 3px 1px rgba(60, 64, 67, 0.15);\n",
              "      fill: #174EA6;\n",
              "    }\n",
              "\n",
              "    [theme=dark] .colab-df-convert {\n",
              "      background-color: #3B4455;\n",
              "      fill: #D2E3FC;\n",
              "    }\n",
              "\n",
              "    [theme=dark] .colab-df-convert:hover {\n",
              "      background-color: #434B5C;\n",
              "      box-shadow: 0px 1px 3px 1px rgba(0, 0, 0, 0.15);\n",
              "      filter: drop-shadow(0px 1px 2px rgba(0, 0, 0, 0.3));\n",
              "      fill: #FFFFFF;\n",
              "    }\n",
              "  </style>\n",
              "\n",
              "      <script>\n",
              "        const buttonEl =\n",
              "          document.querySelector('#df-b3b4f1eb-2d41-4672-bcd4-4f14763fb638 button.colab-df-convert');\n",
              "        buttonEl.style.display =\n",
              "          google.colab.kernel.accessAllowed ? 'block' : 'none';\n",
              "\n",
              "        async function convertToInteractive(key) {\n",
              "          const element = document.querySelector('#df-b3b4f1eb-2d41-4672-bcd4-4f14763fb638');\n",
              "          const dataTable =\n",
              "            await google.colab.kernel.invokeFunction('convertToInteractive',\n",
              "                                                     [key], {});\n",
              "          if (!dataTable) return;\n",
              "\n",
              "          const docLinkHtml = 'Like what you see? Visit the ' +\n",
              "            '<a target=\"_blank\" href=https://colab.research.google.com/notebooks/data_table.ipynb>data table notebook</a>'\n",
              "            + ' to learn more about interactive tables.';\n",
              "          element.innerHTML = '';\n",
              "          dataTable['output_type'] = 'display_data';\n",
              "          await google.colab.output.renderOutput(dataTable, element);\n",
              "          const docLink = document.createElement('div');\n",
              "          docLink.innerHTML = docLinkHtml;\n",
              "          element.appendChild(docLink);\n",
              "        }\n",
              "      </script>\n",
              "    </div>\n",
              "  </div>\n",
              "  "
            ]
          },
          "metadata": {},
          "execution_count": 33
        }
      ]
    },
    {
      "cell_type": "code",
      "source": [
        "df['verified'] = df.reviews.str.contains(\"Trip Verified\")"
      ],
      "metadata": {
        "id": "7dIPbKm4Jaf_"
      },
      "execution_count": 34,
      "outputs": []
    },
    {
      "cell_type": "code",
      "source": [
        "df['verified']"
      ],
      "metadata": {
        "id": "RE27A1nMQ4wG",
        "colab": {
          "base_uri": "https://localhost:8080/"
        },
        "outputId": "bc00a1dd-98cd-4ab0-de72-341e9cd88ef8"
      },
      "execution_count": 35,
      "outputs": [
        {
          "output_type": "execute_result",
          "data": {
            "text/plain": [
              "0        True\n",
              "1       False\n",
              "2       False\n",
              "3       False\n",
              "4        True\n",
              "        ...  \n",
              "3495    False\n",
              "3496    False\n",
              "3497    False\n",
              "3498    False\n",
              "3499    False\n",
              "Name: verified, Length: 3500, dtype: bool"
            ]
          },
          "metadata": {},
          "execution_count": 35
        }
      ]
    },
    {
      "cell_type": "code",
      "source": [
        "import re\n",
        "import nltk\n",
        "from nltk.stem import WordNetLemmatizer\n",
        "from nltk.corpus import stopwords\n",
        "\n",
        "nltk.download('stopwords')  # download the stopwords resource\n",
        "nltk.download('wordnet')  # download the wordnet resource\n",
        "\n",
        "lemma = WordNetLemmatizer()\n",
        "\n",
        "reviews_data = df.reviews.str.strip(\"✅ Trip Verified |\")\n",
        "\n",
        "#create an empty list to collect cleaned data corpus\n",
        "corpus = []\n",
        "\n",
        "#loop through each review, remove punctuations, small case it, join it and add it to corpus\n",
        "for rev in reviews_data:\n",
        "    rev = re.sub('[^a-zA-Z]',' ', rev)\n",
        "    rev = rev.lower()\n",
        "    rev = rev.split()\n",
        "    rev = [lemma.lemmatize(word) for word in rev if word not in set(stopwords.words(\"english\"))]\n",
        "    rev = \" \".join(rev)\n",
        "    corpus.append(rev)\n"
      ],
      "metadata": {
        "colab": {
          "base_uri": "https://localhost:8080/"
        },
        "id": "55l6K5KXW5hI",
        "outputId": "8bf5dd37-267b-416d-c1a0-0a360827131d"
      },
      "execution_count": 44,
      "outputs": [
        {
          "output_type": "stream",
          "name": "stderr",
          "text": [
            "[nltk_data] Downloading package stopwords to /root/nltk_data...\n",
            "[nltk_data]   Package stopwords is already up-to-date!\n",
            "[nltk_data] Downloading package wordnet to /root/nltk_data...\n"
          ]
        }
      ]
    },
    {
      "cell_type": "code",
      "source": [
        "df['corpus'] = corpus"
      ],
      "metadata": {
        "id": "UZVACBb7Q422"
      },
      "execution_count": 45,
      "outputs": []
    },
    {
      "cell_type": "code",
      "source": [
        "df.head()"
      ],
      "metadata": {
        "id": "lsI50NogQ440",
        "colab": {
          "base_uri": "https://localhost:8080/",
          "height": 250
        },
        "outputId": "fcfa859c-372f-45c5-d145-019cb8bc2412"
      },
      "execution_count": 46,
      "outputs": [
        {
          "output_type": "execute_result",
          "data": {
            "text/plain": [
              "                                             reviews  \\\n",
              "0  ✅ Trip Verified |  Despite being a gold member...   \n",
              "1  Not Verified | Regarding the aircraft and seat...   \n",
              "2  Not Verified | I travelled with British Airway...   \n",
              "3  Not Verified |  Food was lousy. Who ever is pl...   \n",
              "4  ✅ Trip Verified | Had the worst experience. Th...   \n",
              "\n",
              "                           stars             date         country  verified  \\\n",
              "0  \\n\\t\\t\\t\\t\\t\\t\\t\\t\\t\\t\\t\\t\\t5     1st May 2023  United Kingdom      True   \n",
              "1                              2  28th April 2023  United Kingdom     False   \n",
              "2                              5  26th April 2023          Sweden     False   \n",
              "3                              1  24th April 2023   United States     False   \n",
              "4                              2  24th April 2023          Canada      True   \n",
              "\n",
              "                                              corpus  \n",
              "0  despite gold member british airway staff heath...  \n",
              "1  verified regarding aircraft seat business clas...  \n",
              "2  verified travelled british airway sweden los a...  \n",
              "3  verified food lousy ever planning asian hindu ...  \n",
              "4  worst experience flight london toronto got del...  "
            ],
            "text/html": [
              "\n",
              "  <div id=\"df-3932bc6e-ba1a-41fc-a9d4-bca52bbd6b67\">\n",
              "    <div class=\"colab-df-container\">\n",
              "      <div>\n",
              "<style scoped>\n",
              "    .dataframe tbody tr th:only-of-type {\n",
              "        vertical-align: middle;\n",
              "    }\n",
              "\n",
              "    .dataframe tbody tr th {\n",
              "        vertical-align: top;\n",
              "    }\n",
              "\n",
              "    .dataframe thead th {\n",
              "        text-align: right;\n",
              "    }\n",
              "</style>\n",
              "<table border=\"1\" class=\"dataframe\">\n",
              "  <thead>\n",
              "    <tr style=\"text-align: right;\">\n",
              "      <th></th>\n",
              "      <th>reviews</th>\n",
              "      <th>stars</th>\n",
              "      <th>date</th>\n",
              "      <th>country</th>\n",
              "      <th>verified</th>\n",
              "      <th>corpus</th>\n",
              "    </tr>\n",
              "  </thead>\n",
              "  <tbody>\n",
              "    <tr>\n",
              "      <th>0</th>\n",
              "      <td>✅ Trip Verified |  Despite being a gold member...</td>\n",
              "      <td>\\n\\t\\t\\t\\t\\t\\t\\t\\t\\t\\t\\t\\t\\t5</td>\n",
              "      <td>1st May 2023</td>\n",
              "      <td>United Kingdom</td>\n",
              "      <td>True</td>\n",
              "      <td>despite gold member british airway staff heath...</td>\n",
              "    </tr>\n",
              "    <tr>\n",
              "      <th>1</th>\n",
              "      <td>Not Verified | Regarding the aircraft and seat...</td>\n",
              "      <td>2</td>\n",
              "      <td>28th April 2023</td>\n",
              "      <td>United Kingdom</td>\n",
              "      <td>False</td>\n",
              "      <td>verified regarding aircraft seat business clas...</td>\n",
              "    </tr>\n",
              "    <tr>\n",
              "      <th>2</th>\n",
              "      <td>Not Verified | I travelled with British Airway...</td>\n",
              "      <td>5</td>\n",
              "      <td>26th April 2023</td>\n",
              "      <td>Sweden</td>\n",
              "      <td>False</td>\n",
              "      <td>verified travelled british airway sweden los a...</td>\n",
              "    </tr>\n",
              "    <tr>\n",
              "      <th>3</th>\n",
              "      <td>Not Verified |  Food was lousy. Who ever is pl...</td>\n",
              "      <td>1</td>\n",
              "      <td>24th April 2023</td>\n",
              "      <td>United States</td>\n",
              "      <td>False</td>\n",
              "      <td>verified food lousy ever planning asian hindu ...</td>\n",
              "    </tr>\n",
              "    <tr>\n",
              "      <th>4</th>\n",
              "      <td>✅ Trip Verified | Had the worst experience. Th...</td>\n",
              "      <td>2</td>\n",
              "      <td>24th April 2023</td>\n",
              "      <td>Canada</td>\n",
              "      <td>True</td>\n",
              "      <td>worst experience flight london toronto got del...</td>\n",
              "    </tr>\n",
              "  </tbody>\n",
              "</table>\n",
              "</div>\n",
              "      <button class=\"colab-df-convert\" onclick=\"convertToInteractive('df-3932bc6e-ba1a-41fc-a9d4-bca52bbd6b67')\"\n",
              "              title=\"Convert this dataframe to an interactive table.\"\n",
              "              style=\"display:none;\">\n",
              "        \n",
              "  <svg xmlns=\"http://www.w3.org/2000/svg\" height=\"24px\"viewBox=\"0 0 24 24\"\n",
              "       width=\"24px\">\n",
              "    <path d=\"M0 0h24v24H0V0z\" fill=\"none\"/>\n",
              "    <path d=\"M18.56 5.44l.94 2.06.94-2.06 2.06-.94-2.06-.94-.94-2.06-.94 2.06-2.06.94zm-11 1L8.5 8.5l.94-2.06 2.06-.94-2.06-.94L8.5 2.5l-.94 2.06-2.06.94zm10 10l.94 2.06.94-2.06 2.06-.94-2.06-.94-.94-2.06-.94 2.06-2.06.94z\"/><path d=\"M17.41 7.96l-1.37-1.37c-.4-.4-.92-.59-1.43-.59-.52 0-1.04.2-1.43.59L10.3 9.45l-7.72 7.72c-.78.78-.78 2.05 0 2.83L4 21.41c.39.39.9.59 1.41.59.51 0 1.02-.2 1.41-.59l7.78-7.78 2.81-2.81c.8-.78.8-2.07 0-2.86zM5.41 20L4 18.59l7.72-7.72 1.47 1.35L5.41 20z\"/>\n",
              "  </svg>\n",
              "      </button>\n",
              "      \n",
              "  <style>\n",
              "    .colab-df-container {\n",
              "      display:flex;\n",
              "      flex-wrap:wrap;\n",
              "      gap: 12px;\n",
              "    }\n",
              "\n",
              "    .colab-df-convert {\n",
              "      background-color: #E8F0FE;\n",
              "      border: none;\n",
              "      border-radius: 50%;\n",
              "      cursor: pointer;\n",
              "      display: none;\n",
              "      fill: #1967D2;\n",
              "      height: 32px;\n",
              "      padding: 0 0 0 0;\n",
              "      width: 32px;\n",
              "    }\n",
              "\n",
              "    .colab-df-convert:hover {\n",
              "      background-color: #E2EBFA;\n",
              "      box-shadow: 0px 1px 2px rgba(60, 64, 67, 0.3), 0px 1px 3px 1px rgba(60, 64, 67, 0.15);\n",
              "      fill: #174EA6;\n",
              "    }\n",
              "\n",
              "    [theme=dark] .colab-df-convert {\n",
              "      background-color: #3B4455;\n",
              "      fill: #D2E3FC;\n",
              "    }\n",
              "\n",
              "    [theme=dark] .colab-df-convert:hover {\n",
              "      background-color: #434B5C;\n",
              "      box-shadow: 0px 1px 3px 1px rgba(0, 0, 0, 0.15);\n",
              "      filter: drop-shadow(0px 1px 2px rgba(0, 0, 0, 0.3));\n",
              "      fill: #FFFFFF;\n",
              "    }\n",
              "  </style>\n",
              "\n",
              "      <script>\n",
              "        const buttonEl =\n",
              "          document.querySelector('#df-3932bc6e-ba1a-41fc-a9d4-bca52bbd6b67 button.colab-df-convert');\n",
              "        buttonEl.style.display =\n",
              "          google.colab.kernel.accessAllowed ? 'block' : 'none';\n",
              "\n",
              "        async function convertToInteractive(key) {\n",
              "          const element = document.querySelector('#df-3932bc6e-ba1a-41fc-a9d4-bca52bbd6b67');\n",
              "          const dataTable =\n",
              "            await google.colab.kernel.invokeFunction('convertToInteractive',\n",
              "                                                     [key], {});\n",
              "          if (!dataTable) return;\n",
              "\n",
              "          const docLinkHtml = 'Like what you see? Visit the ' +\n",
              "            '<a target=\"_blank\" href=https://colab.research.google.com/notebooks/data_table.ipynb>data table notebook</a>'\n",
              "            + ' to learn more about interactive tables.';\n",
              "          element.innerHTML = '';\n",
              "          dataTable['output_type'] = 'display_data';\n",
              "          await google.colab.output.renderOutput(dataTable, element);\n",
              "          const docLink = document.createElement('div');\n",
              "          docLink.innerHTML = docLinkHtml;\n",
              "          element.appendChild(docLink);\n",
              "        }\n",
              "      </script>\n",
              "    </div>\n",
              "  </div>\n",
              "  "
            ]
          },
          "metadata": {},
          "execution_count": 46
        }
      ]
    },
    {
      "cell_type": "code",
      "source": [
        "df.dtypes"
      ],
      "metadata": {
        "id": "k85ouTBcRBKl",
        "colab": {
          "base_uri": "https://localhost:8080/"
        },
        "outputId": "e6a7a7c0-705f-4142-a2fa-72cb219b5cc1"
      },
      "execution_count": 47,
      "outputs": [
        {
          "output_type": "execute_result",
          "data": {
            "text/plain": [
              "reviews     object\n",
              "stars       object\n",
              "date        object\n",
              "country     object\n",
              "verified      bool\n",
              "corpus      object\n",
              "dtype: object"
            ]
          },
          "metadata": {},
          "execution_count": 47
        }
      ]
    },
    {
      "cell_type": "code",
      "source": [
        "# convert the date to datetime format\n",
        "\n",
        "df.date = pd.to_datetime(df.date)"
      ],
      "metadata": {
        "id": "re6uKPqSRBMs"
      },
      "execution_count": 48,
      "outputs": []
    },
    {
      "cell_type": "code",
      "source": [
        "df.date.head()"
      ],
      "metadata": {
        "id": "9-ZgY8JIRBPD",
        "colab": {
          "base_uri": "https://localhost:8080/"
        },
        "outputId": "206d5739-ff11-4a0c-99ff-396ec59107a7"
      },
      "execution_count": 49,
      "outputs": [
        {
          "output_type": "execute_result",
          "data": {
            "text/plain": [
              "0   2023-05-01\n",
              "1   2023-04-28\n",
              "2   2023-04-26\n",
              "3   2023-04-24\n",
              "4   2023-04-24\n",
              "Name: date, dtype: datetime64[ns]"
            ]
          },
          "metadata": {},
          "execution_count": 49
        }
      ]
    },
    {
      "cell_type": "code",
      "source": [
        "#check for unique values\n",
        "df.stars.unique()"
      ],
      "metadata": {
        "id": "xGJWWDfvRGn8",
        "colab": {
          "base_uri": "https://localhost:8080/"
        },
        "outputId": "aee27f71-1507-41fa-b31b-325b472854ad"
      },
      "execution_count": 50,
      "outputs": [
        {
          "output_type": "execute_result",
          "data": {
            "text/plain": [
              "array(['\\n\\t\\t\\t\\t\\t\\t\\t\\t\\t\\t\\t\\t\\t5', '2', '5', '1', '10', '3', '4',\n",
              "       '9', '7', '8', '6', 'None'], dtype=object)"
            ]
          },
          "metadata": {},
          "execution_count": 50
        }
      ]
    },
    {
      "cell_type": "code",
      "source": [
        "# remove the \\t and \\n from the ratings\n",
        "df.stars = df.stars.str.strip(\"\\n\\t\\t\\t\\t\\t\\t\\t\\t\\t\\t\\t\\t\\t\")"
      ],
      "metadata": {
        "id": "HLkSu8j5RGqb"
      },
      "execution_count": 51,
      "outputs": []
    },
    {
      "cell_type": "code",
      "source": [
        "df.stars.value_counts()"
      ],
      "metadata": {
        "id": "BHNAJJqcRGtS",
        "colab": {
          "base_uri": "https://localhost:8080/"
        },
        "outputId": "d08bc639-0cce-49dd-eac6-5e02d2995c55"
      },
      "execution_count": 52,
      "outputs": [
        {
          "output_type": "execute_result",
          "data": {
            "text/plain": [
              "1       775\n",
              "2       395\n",
              "3       388\n",
              "8       350\n",
              "10      311\n",
              "7       302\n",
              "9       298\n",
              "5       262\n",
              "4       232\n",
              "6       182\n",
              "None      5\n",
              "Name: stars, dtype: int64"
            ]
          },
          "metadata": {},
          "execution_count": 52
        }
      ]
    },
    {
      "cell_type": "code",
      "source": [
        "# drop the rows where the value of ratings is None\n",
        "df.drop(df[df.stars == \"None\"].index, axis=0, inplace=True)"
      ],
      "metadata": {
        "id": "YRYmv6W4ROHd"
      },
      "execution_count": 53,
      "outputs": []
    },
    {
      "cell_type": "code",
      "source": [
        "#check the unique values again\n",
        "df.stars.unique()"
      ],
      "metadata": {
        "id": "esDuRMsxROJ9",
        "colab": {
          "base_uri": "https://localhost:8080/"
        },
        "outputId": "c3567799-0e23-4cb8-fa3b-161fa57e8d95"
      },
      "execution_count": 54,
      "outputs": [
        {
          "output_type": "execute_result",
          "data": {
            "text/plain": [
              "array(['5', '2', '1', '10', '3', '4', '9', '7', '8', '6'], dtype=object)"
            ]
          },
          "metadata": {},
          "execution_count": 54
        }
      ]
    },
    {
      "cell_type": "code",
      "source": [
        "df.isnull().value_counts()\n"
      ],
      "metadata": {
        "id": "1Hkw94jfROL4",
        "colab": {
          "base_uri": "https://localhost:8080/"
        },
        "outputId": "c8a957ad-9fd7-4ef3-943a-76af80c903e4"
      },
      "execution_count": 55,
      "outputs": [
        {
          "output_type": "execute_result",
          "data": {
            "text/plain": [
              "reviews  stars  date   country  verified  corpus\n",
              "False    False  False  False    False     False     3493\n",
              "                       True     False     False        2\n",
              "dtype: int64"
            ]
          },
          "metadata": {},
          "execution_count": 55
        }
      ]
    },
    {
      "cell_type": "code",
      "source": [
        "df.country.isnull().value_counts()"
      ],
      "metadata": {
        "id": "V_cDhXFuRONd",
        "colab": {
          "base_uri": "https://localhost:8080/"
        },
        "outputId": "f1db7ffb-3df4-4a4b-e873-13937e892bc0"
      },
      "execution_count": 56,
      "outputs": [
        {
          "output_type": "execute_result",
          "data": {
            "text/plain": [
              "False    3493\n",
              "True        2\n",
              "Name: country, dtype: int64"
            ]
          },
          "metadata": {},
          "execution_count": 56
        }
      ]
    },
    {
      "cell_type": "code",
      "source": [
        "#drop the rows using index where the country value is null\n",
        "df.drop(df[df.country.isnull() == True].index, axis=0, inplace=True)"
      ],
      "metadata": {
        "id": "P1fmOzU4ROPA"
      },
      "execution_count": 57,
      "outputs": []
    },
    {
      "cell_type": "code",
      "source": [
        "df.shape"
      ],
      "metadata": {
        "id": "t16af-tzRW5V",
        "colab": {
          "base_uri": "https://localhost:8080/"
        },
        "outputId": "9534e699-7ba6-4ab9-81d4-bbd83ecc3a95"
      },
      "execution_count": 58,
      "outputs": [
        {
          "output_type": "execute_result",
          "data": {
            "text/plain": [
              "(3493, 6)"
            ]
          },
          "metadata": {},
          "execution_count": 58
        }
      ]
    },
    {
      "cell_type": "code",
      "source": [
        "#resetting the index\n",
        "df.reset_index(drop=True)"
      ],
      "metadata": {
        "id": "nKp61XZKRW7s",
        "colab": {
          "base_uri": "https://localhost:8080/",
          "height": 423
        },
        "outputId": "f5f155c2-8515-4eaa-d5d0-4d4f3e621181"
      },
      "execution_count": 59,
      "outputs": [
        {
          "output_type": "execute_result",
          "data": {
            "text/plain": [
              "                                                reviews stars       date  \\\n",
              "0     ✅ Trip Verified |  Despite being a gold member...     5 2023-05-01   \n",
              "1     Not Verified | Regarding the aircraft and seat...     2 2023-04-28   \n",
              "2     Not Verified | I travelled with British Airway...     5 2023-04-26   \n",
              "3     Not Verified |  Food was lousy. Who ever is pl...     1 2023-04-24   \n",
              "4     ✅ Trip Verified | Had the worst experience. Th...     2 2023-04-24   \n",
              "...                                                 ...   ...        ...   \n",
              "3488  LCY-SNN-JFK-LCY BA001 and 004. Quick check in ...    10 2014-05-15   \n",
              "3489  MIA-LHR in World Traveller on a 747-400. After...     5 2014-05-15   \n",
              "3490  Flew to Vegas on 8th May and dismayed at the s...     1 2014-05-15   \n",
              "3491  On a recent vacation from Sacramento to Paris ...     8 2014-05-13   \n",
              "3492  I should be in a nice hotel in Romania instead...     7 2014-05-12   \n",
              "\n",
              "             country  verified  \\\n",
              "0     United Kingdom      True   \n",
              "1     United Kingdom     False   \n",
              "2             Sweden     False   \n",
              "3      United States     False   \n",
              "4             Canada      True   \n",
              "...              ...       ...   \n",
              "3488  United Kingdom     False   \n",
              "3489  United Kingdom     False   \n",
              "3490  United Kingdom     False   \n",
              "3491   United States     False   \n",
              "3492  United Kingdom     False   \n",
              "\n",
              "                                                 corpus  \n",
              "0     despite gold member british airway staff heath...  \n",
              "1     verified regarding aircraft seat business clas...  \n",
              "2     verified travelled british airway sweden los a...  \n",
              "3     verified food lousy ever planning asian hindu ...  \n",
              "4     worst experience flight london toronto got del...  \n",
              "...                                                 ...  \n",
              "3488  lcy snn jfk lcy ba quick check fast track secu...  \n",
              "3489  mia lhr world traveller flown consecutive leg ...  \n",
              "3490  flew vega th may dismayed standard filthy seat...  \n",
              "3491  recent vacation sacramento paris friend terrib...  \n",
              "3492  nice hotel romania instead hour arrived heathr...  \n",
              "\n",
              "[3493 rows x 6 columns]"
            ],
            "text/html": [
              "\n",
              "  <div id=\"df-7100b4eb-d10b-46ea-872a-627e1257d6e1\">\n",
              "    <div class=\"colab-df-container\">\n",
              "      <div>\n",
              "<style scoped>\n",
              "    .dataframe tbody tr th:only-of-type {\n",
              "        vertical-align: middle;\n",
              "    }\n",
              "\n",
              "    .dataframe tbody tr th {\n",
              "        vertical-align: top;\n",
              "    }\n",
              "\n",
              "    .dataframe thead th {\n",
              "        text-align: right;\n",
              "    }\n",
              "</style>\n",
              "<table border=\"1\" class=\"dataframe\">\n",
              "  <thead>\n",
              "    <tr style=\"text-align: right;\">\n",
              "      <th></th>\n",
              "      <th>reviews</th>\n",
              "      <th>stars</th>\n",
              "      <th>date</th>\n",
              "      <th>country</th>\n",
              "      <th>verified</th>\n",
              "      <th>corpus</th>\n",
              "    </tr>\n",
              "  </thead>\n",
              "  <tbody>\n",
              "    <tr>\n",
              "      <th>0</th>\n",
              "      <td>✅ Trip Verified |  Despite being a gold member...</td>\n",
              "      <td>5</td>\n",
              "      <td>2023-05-01</td>\n",
              "      <td>United Kingdom</td>\n",
              "      <td>True</td>\n",
              "      <td>despite gold member british airway staff heath...</td>\n",
              "    </tr>\n",
              "    <tr>\n",
              "      <th>1</th>\n",
              "      <td>Not Verified | Regarding the aircraft and seat...</td>\n",
              "      <td>2</td>\n",
              "      <td>2023-04-28</td>\n",
              "      <td>United Kingdom</td>\n",
              "      <td>False</td>\n",
              "      <td>verified regarding aircraft seat business clas...</td>\n",
              "    </tr>\n",
              "    <tr>\n",
              "      <th>2</th>\n",
              "      <td>Not Verified | I travelled with British Airway...</td>\n",
              "      <td>5</td>\n",
              "      <td>2023-04-26</td>\n",
              "      <td>Sweden</td>\n",
              "      <td>False</td>\n",
              "      <td>verified travelled british airway sweden los a...</td>\n",
              "    </tr>\n",
              "    <tr>\n",
              "      <th>3</th>\n",
              "      <td>Not Verified |  Food was lousy. Who ever is pl...</td>\n",
              "      <td>1</td>\n",
              "      <td>2023-04-24</td>\n",
              "      <td>United States</td>\n",
              "      <td>False</td>\n",
              "      <td>verified food lousy ever planning asian hindu ...</td>\n",
              "    </tr>\n",
              "    <tr>\n",
              "      <th>4</th>\n",
              "      <td>✅ Trip Verified | Had the worst experience. Th...</td>\n",
              "      <td>2</td>\n",
              "      <td>2023-04-24</td>\n",
              "      <td>Canada</td>\n",
              "      <td>True</td>\n",
              "      <td>worst experience flight london toronto got del...</td>\n",
              "    </tr>\n",
              "    <tr>\n",
              "      <th>...</th>\n",
              "      <td>...</td>\n",
              "      <td>...</td>\n",
              "      <td>...</td>\n",
              "      <td>...</td>\n",
              "      <td>...</td>\n",
              "      <td>...</td>\n",
              "    </tr>\n",
              "    <tr>\n",
              "      <th>3488</th>\n",
              "      <td>LCY-SNN-JFK-LCY BA001 and 004. Quick check in ...</td>\n",
              "      <td>10</td>\n",
              "      <td>2014-05-15</td>\n",
              "      <td>United Kingdom</td>\n",
              "      <td>False</td>\n",
              "      <td>lcy snn jfk lcy ba quick check fast track secu...</td>\n",
              "    </tr>\n",
              "    <tr>\n",
              "      <th>3489</th>\n",
              "      <td>MIA-LHR in World Traveller on a 747-400. After...</td>\n",
              "      <td>5</td>\n",
              "      <td>2014-05-15</td>\n",
              "      <td>United Kingdom</td>\n",
              "      <td>False</td>\n",
              "      <td>mia lhr world traveller flown consecutive leg ...</td>\n",
              "    </tr>\n",
              "    <tr>\n",
              "      <th>3490</th>\n",
              "      <td>Flew to Vegas on 8th May and dismayed at the s...</td>\n",
              "      <td>1</td>\n",
              "      <td>2014-05-15</td>\n",
              "      <td>United Kingdom</td>\n",
              "      <td>False</td>\n",
              "      <td>flew vega th may dismayed standard filthy seat...</td>\n",
              "    </tr>\n",
              "    <tr>\n",
              "      <th>3491</th>\n",
              "      <td>On a recent vacation from Sacramento to Paris ...</td>\n",
              "      <td>8</td>\n",
              "      <td>2014-05-13</td>\n",
              "      <td>United States</td>\n",
              "      <td>False</td>\n",
              "      <td>recent vacation sacramento paris friend terrib...</td>\n",
              "    </tr>\n",
              "    <tr>\n",
              "      <th>3492</th>\n",
              "      <td>I should be in a nice hotel in Romania instead...</td>\n",
              "      <td>7</td>\n",
              "      <td>2014-05-12</td>\n",
              "      <td>United Kingdom</td>\n",
              "      <td>False</td>\n",
              "      <td>nice hotel romania instead hour arrived heathr...</td>\n",
              "    </tr>\n",
              "  </tbody>\n",
              "</table>\n",
              "<p>3493 rows × 6 columns</p>\n",
              "</div>\n",
              "      <button class=\"colab-df-convert\" onclick=\"convertToInteractive('df-7100b4eb-d10b-46ea-872a-627e1257d6e1')\"\n",
              "              title=\"Convert this dataframe to an interactive table.\"\n",
              "              style=\"display:none;\">\n",
              "        \n",
              "  <svg xmlns=\"http://www.w3.org/2000/svg\" height=\"24px\"viewBox=\"0 0 24 24\"\n",
              "       width=\"24px\">\n",
              "    <path d=\"M0 0h24v24H0V0z\" fill=\"none\"/>\n",
              "    <path d=\"M18.56 5.44l.94 2.06.94-2.06 2.06-.94-2.06-.94-.94-2.06-.94 2.06-2.06.94zm-11 1L8.5 8.5l.94-2.06 2.06-.94-2.06-.94L8.5 2.5l-.94 2.06-2.06.94zm10 10l.94 2.06.94-2.06 2.06-.94-2.06-.94-.94-2.06-.94 2.06-2.06.94z\"/><path d=\"M17.41 7.96l-1.37-1.37c-.4-.4-.92-.59-1.43-.59-.52 0-1.04.2-1.43.59L10.3 9.45l-7.72 7.72c-.78.78-.78 2.05 0 2.83L4 21.41c.39.39.9.59 1.41.59.51 0 1.02-.2 1.41-.59l7.78-7.78 2.81-2.81c.8-.78.8-2.07 0-2.86zM5.41 20L4 18.59l7.72-7.72 1.47 1.35L5.41 20z\"/>\n",
              "  </svg>\n",
              "      </button>\n",
              "      \n",
              "  <style>\n",
              "    .colab-df-container {\n",
              "      display:flex;\n",
              "      flex-wrap:wrap;\n",
              "      gap: 12px;\n",
              "    }\n",
              "\n",
              "    .colab-df-convert {\n",
              "      background-color: #E8F0FE;\n",
              "      border: none;\n",
              "      border-radius: 50%;\n",
              "      cursor: pointer;\n",
              "      display: none;\n",
              "      fill: #1967D2;\n",
              "      height: 32px;\n",
              "      padding: 0 0 0 0;\n",
              "      width: 32px;\n",
              "    }\n",
              "\n",
              "    .colab-df-convert:hover {\n",
              "      background-color: #E2EBFA;\n",
              "      box-shadow: 0px 1px 2px rgba(60, 64, 67, 0.3), 0px 1px 3px 1px rgba(60, 64, 67, 0.15);\n",
              "      fill: #174EA6;\n",
              "    }\n",
              "\n",
              "    [theme=dark] .colab-df-convert {\n",
              "      background-color: #3B4455;\n",
              "      fill: #D2E3FC;\n",
              "    }\n",
              "\n",
              "    [theme=dark] .colab-df-convert:hover {\n",
              "      background-color: #434B5C;\n",
              "      box-shadow: 0px 1px 3px 1px rgba(0, 0, 0, 0.15);\n",
              "      filter: drop-shadow(0px 1px 2px rgba(0, 0, 0, 0.3));\n",
              "      fill: #FFFFFF;\n",
              "    }\n",
              "  </style>\n",
              "\n",
              "      <script>\n",
              "        const buttonEl =\n",
              "          document.querySelector('#df-7100b4eb-d10b-46ea-872a-627e1257d6e1 button.colab-df-convert');\n",
              "        buttonEl.style.display =\n",
              "          google.colab.kernel.accessAllowed ? 'block' : 'none';\n",
              "\n",
              "        async function convertToInteractive(key) {\n",
              "          const element = document.querySelector('#df-7100b4eb-d10b-46ea-872a-627e1257d6e1');\n",
              "          const dataTable =\n",
              "            await google.colab.kernel.invokeFunction('convertToInteractive',\n",
              "                                                     [key], {});\n",
              "          if (!dataTable) return;\n",
              "\n",
              "          const docLinkHtml = 'Like what you see? Visit the ' +\n",
              "            '<a target=\"_blank\" href=https://colab.research.google.com/notebooks/data_table.ipynb>data table notebook</a>'\n",
              "            + ' to learn more about interactive tables.';\n",
              "          element.innerHTML = '';\n",
              "          dataTable['output_type'] = 'display_data';\n",
              "          await google.colab.output.renderOutput(dataTable, element);\n",
              "          const docLink = document.createElement('div');\n",
              "          docLink.innerHTML = docLinkHtml;\n",
              "          element.appendChild(docLink);\n",
              "        }\n",
              "      </script>\n",
              "    </div>\n",
              "  </div>\n",
              "  "
            ]
          },
          "metadata": {},
          "execution_count": 59
        }
      ]
    },
    {
      "cell_type": "code",
      "source": [
        "# export the cleaned data\n",
        "\n",
        "df.to_csv(cwd + \"/cleaned-BA-reviews.csv\")"
      ],
      "metadata": {
        "id": "pm0aHYRLRW99"
      },
      "execution_count": 61,
      "outputs": []
    },
    {
      "cell_type": "code",
      "source": [
        "from google.colab import files\n",
        "files.download(\"cleaned-BA-reviews.csv\")"
      ],
      "metadata": {
        "id": "6nTuuaXzRBQ8",
        "colab": {
          "base_uri": "https://localhost:8080/",
          "height": 17
        },
        "outputId": "c07243f5-acda-46a0-a0c2-dd8690d6771e"
      },
      "execution_count": 64,
      "outputs": [
        {
          "output_type": "display_data",
          "data": {
            "text/plain": [
              "<IPython.core.display.Javascript object>"
            ],
            "application/javascript": [
              "\n",
              "    async function download(id, filename, size) {\n",
              "      if (!google.colab.kernel.accessAllowed) {\n",
              "        return;\n",
              "      }\n",
              "      const div = document.createElement('div');\n",
              "      const label = document.createElement('label');\n",
              "      label.textContent = `Downloading \"${filename}\": `;\n",
              "      div.appendChild(label);\n",
              "      const progress = document.createElement('progress');\n",
              "      progress.max = size;\n",
              "      div.appendChild(progress);\n",
              "      document.body.appendChild(div);\n",
              "\n",
              "      const buffers = [];\n",
              "      let downloaded = 0;\n",
              "\n",
              "      const channel = await google.colab.kernel.comms.open(id);\n",
              "      // Send a message to notify the kernel that we're ready.\n",
              "      channel.send({})\n",
              "\n",
              "      for await (const message of channel.messages) {\n",
              "        // Send a message to notify the kernel that we're ready.\n",
              "        channel.send({})\n",
              "        if (message.buffers) {\n",
              "          for (const buffer of message.buffers) {\n",
              "            buffers.push(buffer);\n",
              "            downloaded += buffer.byteLength;\n",
              "            progress.value = downloaded;\n",
              "          }\n",
              "        }\n",
              "      }\n",
              "      const blob = new Blob(buffers, {type: 'application/binary'});\n",
              "      const a = document.createElement('a');\n",
              "      a.href = window.URL.createObjectURL(blob);\n",
              "      a.download = filename;\n",
              "      div.appendChild(a);\n",
              "      a.click();\n",
              "      div.remove();\n",
              "    }\n",
              "  "
            ]
          },
          "metadata": {}
        },
        {
          "output_type": "display_data",
          "data": {
            "text/plain": [
              "<IPython.core.display.Javascript object>"
            ],
            "application/javascript": [
              "download(\"download_7d074e6c-fbce-4801-83bc-31ed8139a208\", \"cleaned-BA-reviews.csv\", 5242047)"
            ]
          },
          "metadata": {}
        }
      ]
    }
  ]
}